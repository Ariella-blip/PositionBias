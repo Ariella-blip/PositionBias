{
 "cells": [
  {
   "cell_type": "markdown",
   "id": "53bab668-18d9-4773-85a9-70fddc4fc2b5",
   "metadata": {},
   "source": [
    "# Pre-Processing Real Data \n",
    "\n",
    "This is an example of how the real data was processed."
   ]
  },
  {
   "cell_type": "code",
   "execution_count": 4,
   "id": "b0e8bd6a-a350-4f44-8a20-1981501882f4",
   "metadata": {
    "tags": []
   },
   "outputs": [],
   "source": [
    "import pandas as pd"
   ]
  },
  {
   "cell_type": "code",
   "execution_count": null,
   "id": "2229a590-709c-490e-8a6b-a093ebfed583",
   "metadata": {},
   "outputs": [],
   "source": [
    "# example placeholders\n",
    "rawdata1 = pd.read_parquet('raw_data_file1.parquet')\n",
    "rawdata1 = pd.read_parquet('raw_data_file2.parquet')"
   ]
  },
  {
   "cell_type": "code",
   "execution_count": null,
   "id": "0590ab1c-26f4-4aa5-8f19-7b09e6995fff",
   "metadata": {},
   "outputs": [],
   "source": [
    "# Load in raw data\n",
    "df = pd.concat([rawdata1, rawdata2])\n",
    "\n",
    "# Drop users that are empty, in order to delete bots\n",
    "df = df.loc[df['user'] != 'None']\n",
    "\n",
    "# Make sure features are not empty\n",
    "df = df[df['features'].apply(len) > 1]\n",
    "\n",
    "# Only take upto rank 25\n",
    "df = df[df['rank'] <= 25]"
   ]
  },
  {
   "cell_type": "code",
   "execution_count": null,
   "id": "f58253cc-1ddd-45d6-8621-544a974e6c80",
   "metadata": {},
   "outputs": [],
   "source": [
    "ids = []\n",
    "time = []\n",
    "time_minute = []\n",
    "\n",
    "# Make jobs combined on combined characteristics\n",
    "for row, col in df.iterrows(): \n",
    "    obj = (col['features'][1],\n",
    "            col['features'][2],\n",
    "            col['features'][3],\n",
    "            col['features'][4],\n",
    "            col['features'][5],\n",
    "            col['features'][6],\n",
    "            col['features'][7],\n",
    "            col['features'][8])\n",
    "    id = '-'.join([str(x) for x in obj])\n",
    "    ids.append(id)\n",
    "    \n",
    "    # Make truncated time variables\n",
    "    hdm = [col['time'].hour, col['time'].day, col['time'].month]\n",
    "    mhdm = [col['time'].minute, col['time'].hour, col['time'].day, col['time'].month]\n",
    "    hdm = '-'.join([str(x) for x in hdm])\n",
    "    mhdm = '-'.join([str(x) for x in mhdm])\n",
    "    time.append(hdm)\n",
    "    time_minute.append(mhdm)"
   ]
  },
  {
   "cell_type": "code",
   "execution_count": null,
   "id": "55659768-ae07-4b1e-9042-762d4863f95f",
   "metadata": {},
   "outputs": [],
   "source": [
    "df['embedding'] = ids\n",
    "df['time_rounded'] = time\n",
    "df['time_rounded_min'] = time_minute"
   ]
  },
  {
   "cell_type": "code",
   "execution_count": null,
   "id": "a3660220-979b-4560-a78d-b9184fe1856d",
   "metadata": {},
   "outputs": [],
   "source": [
    "df['session'] = df.groupby(by=['user', 'query_short', 'time'], sort=False).ngroup()+1"
   ]
  },
  {
   "cell_type": "code",
   "execution_count": null,
   "id": "db2e4c66-f72a-4488-acf3-3c1bd02c7ce8",
   "metadata": {},
   "outputs": [],
   "source": [
    "# Load in file with all applies/views for users\n",
    "user_data = pd.read('user_data.parquet')"
   ]
  },
  {
   "cell_type": "code",
   "execution_count": null,
   "id": "107e6600-060b-484d-b8e7-24bfa349e981",
   "metadata": {},
   "outputs": [],
   "source": [
    "# Select only rows where user views and count views\n",
    "user_action_view = user_data[user_data[\"action_type\"] == 'view'][\"user\"].value_counts().sort_values(ascending = False)\n",
    "\n",
    "# To decide cut-off\n",
    "print(user_action_view.head())\n",
    "print(user_action_view.describe())\n",
    "print(f\"MODE: \", user_action_view.mode())\n",
    "print(f\"MEDIAN: \", user_action_view.median())\n",
    "\n",
    "cut_off_views = 99999999 # placeholder\n",
    "\n",
    "# Select users that viewed more than X job listings and save for later\n",
    "sus_users_many_views = user_action_view[user_action_view.values > cutoff_views]"
   ]
  },
  {
   "cell_type": "code",
   "execution_count": null,
   "id": "8a9140cc-2894-4467-9774-e5a8bb2ffd90",
   "metadata": {},
   "outputs": [],
   "source": [
    "# Select only rows where user applies\n",
    "user_action_apply = user_data[user_data[\"action_type\"] == 'view'][\"user\"].value_counts().sort_values(ascending = False)\n",
    "\n",
    "# To decide cut-off\n",
    "print(user_action_apply.head())\n",
    "print(user_action_apply.describe())\n",
    "print(f\"MODE: \", user_action_apply.mode())\n",
    "print(f\"MEDIAN: \", user_action_apply.median())\n",
    "\n",
    "cut_off_applies = 99999999 # placeholder\n",
    "\n",
    "# Select users that applied for more than a X jobs and save for later\n",
    "sus_users_many_applies = user_action_apply[user_action_apply.values > cut_off_applies]"
   ]
  },
  {
   "cell_type": "code",
   "execution_count": null,
   "id": "f380c68f-077d-4446-aecc-c3d936f4a8eb",
   "metadata": {},
   "outputs": [],
   "source": [
    "# Make list of suspicious users\n",
    "bots = set(sus_users_many_views.index.tolist() + sus_users_many_applies.index.tolist()) \n",
    "df = df[~df['user'].isin(bots)]"
   ]
  },
  {
   "cell_type": "code",
   "execution_count": null,
   "id": "3e3f174b-2422-464d-8486-7df4fb16d623",
   "metadata": {},
   "outputs": [],
   "source": [
    "# Recode apply/view to 1, none to 0\n",
    "df['clicks'] = np.where(df['action_type'].isin([\"view\", \"apply\"]), 1, 0)"
   ]
  },
  {
   "cell_type": "code",
   "execution_count": null,
   "id": "caeeea24-807e-4f95-9199-e5f087b25649",
   "metadata": {},
   "outputs": [],
   "source": [
    "# Filter out queries with no applies or views\n",
    "clicks_session = df.groupby('session')[\"action_type\"].sum() < 1\n",
    "no_clicks = clicks_session.index[clicks_session.values == True]\n",
    "df = df[~df['session'].isin(no_clicks)]"
   ]
  },
  {
   "cell_type": "code",
   "execution_count": null,
   "id": "04200930-bd0d-46d5-9dd3-739bcd6379ab",
   "metadata": {},
   "outputs": [],
   "source": [
    "# Recode so rank starts at 0\n",
    "df['rank'] = df['rank'] - 1\n",
    "\n",
    "# assign query_doc ids\n",
    "df = data.assign(\n",
    "    qd_id = df[\n",
    "        ['query_shortened', 'job', 'features']\n",
    "    ].apply(\n",
    "        lambda r : r['query_shortened'] + \"_\" + r['embedding'],\n",
    "        axis = 1\n",
    "    ).astype(\"category\")\n",
    ")"
   ]
  },
  {
   "cell_type": "code",
   "execution_count": null,
   "id": "8815a680-3d61-4f96-a8c7-b61ae510a201",
   "metadata": {},
   "outputs": [],
   "source": [
    "# Drop more duplicates that are in the same hour as each other\n",
    "df = df.drop_duplicates(subset=['time_rounded', 'user', 'rank','qd_id', 'clicks'])"
   ]
  },
  {
   "cell_type": "code",
   "execution_count": null,
   "id": "e2478982-ddce-4eb3-9ad8-059b66f9d767",
   "metadata": {},
   "outputs": [],
   "source": []
  }
 ],
 "metadata": {
  "kernelspec": {
   "display_name": "conda_python3",
   "language": "python",
   "name": "conda_python3"
  },
  "language_info": {
   "codemirror_mode": {
    "name": "ipython",
    "version": 3
   },
   "file_extension": ".py",
   "mimetype": "text/x-python",
   "name": "python",
   "nbconvert_exporter": "python",
   "pygments_lexer": "ipython3",
   "version": "3.10.14"
  }
 },
 "nbformat": 4,
 "nbformat_minor": 5
}
